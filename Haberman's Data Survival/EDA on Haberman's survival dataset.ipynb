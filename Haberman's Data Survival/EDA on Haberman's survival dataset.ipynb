{
  "cells": [
    {
      "metadata": {
        "_uuid": "fc4c9744a6ab86ad54a9e5e3c38b92726871fded"
      },
      "cell_type": "markdown",
      "source": "### Haberman's Survival Data Set\n#### Survival of patients who had undergone surgery for breast cancer\n\nThe dataset contains cases from a study that was conducted between 1958 and 1970 at the University of Chicago's Billings Hospital on the survival of patients who had undergone surgery for breast cancer."
    },
    {
      "metadata": {
        "_uuid": "123d88ff0d1fb429abf699fb7383699872974be5"
      },
      "cell_type": "markdown",
      "source": "#### Attribute Information:\n\n**Feature-1** : Age of patient at time of operation \n\n**Feature-2** : Patient's year of operation (year - 1900)\n\n**Feature-3** : Number of positive axillary nodes detected \n\n**Feature-4** : Survival status\n\n                (class attribute) 1 = the patient survived 5 years or longer \n                \n                (class attribute) 2 = the patient died within 5 year\n                \nAs Feature-4 is a class variable , it is the result of all other three features , \nit can also be thought of as a Dependent feature and Feature-1,2,3 are independent features "
    },
    {
      "metadata": {
        "_uuid": "ade0b6b932e5ede521f5076385316bf64558d830"
      },
      "cell_type": "markdown",
      "source": "**OBJECTIVE** : If a new observation is to be tested then to classify whether it should be classified as class 1 or class 2\n                based on it's features"
    },
    {
      "metadata": {
        "collapsed": true,
        "trusted": true,
        "_uuid": "6723359cb2811516ed5f671ee4099279dcbfc009"
      },
      "cell_type": "code",
      "source": "#import the libraries needed for visualization and numeric computations\nimport pandas as pd\nimport numpy as np\nimport seaborn as sns\nimport matplotlib.pyplot as plt",
      "execution_count": null,
      "outputs": []
    },
    {
      "metadata": {
        "collapsed": true,
        "trusted": true,
        "_uuid": "389a4ab6dc5083054748408a45b05ab10c04f96f"
      },
      "cell_type": "code",
      "source": "#To display the plots on to the jupyter notebook without calling the plt.show() function\n%matplotlib inline ",
      "execution_count": null,
      "outputs": []
    },
    {
      "metadata": {
        "trusted": true,
        "collapsed": true,
        "_uuid": "70dcd99c918317b8fcc0217bfe63a0e676872b8e"
      },
      "cell_type": "code",
      "source": "#import the dataset and understand what are the features present in it\nhabermans_dataset = pd.read_csv(\"../input/haberman.csv\",names= ['age','year_of_operation','axillary_nodes','survival_class'] )",
      "execution_count": null,
      "outputs": []
    },
    {
      "metadata": {
        "trusted": true,
        "_uuid": "9ada56580f1b09f59433e6c0dadab1b720fcb052"
      },
      "cell_type": "code",
      "source": "habermans_dataset.head()",
      "execution_count": null,
      "outputs": []
    },
    {
      "metadata": {
        "trusted": true,
        "_uuid": "12b8a309b944c9a1f29b96ed1cb80dd3dcf3d87a"
      },
      "cell_type": "code",
      "source": "#To know the number of observations and number of columns present in the dataset we use shape function\nhabermans_dataset.shape",
      "execution_count": null,
      "outputs": []
    },
    {
      "metadata": {
        "_uuid": "2701f52b873513624dceac414ad28a75d811fc58"
      },
      "cell_type": "markdown",
      "source": "This dataset has 306 observations and 4features (1 among them is class feature )"
    },
    {
      "metadata": {
        "trusted": true,
        "_uuid": "88d7af5ea8e6b4841fb2d00fa7c4d0a6c2034677"
      },
      "cell_type": "code",
      "source": "#let's examine the survival class to examine whether the data is balanced or imbalanced \nhabermans_dataset['survival_class'].value_counts()",
      "execution_count": null,
      "outputs": []
    },
    {
      "metadata": {
        "_uuid": "8242db37e5ac082794e0411d296914667f7c9c7f"
      },
      "cell_type": "markdown",
      "source": "By above output we can understand that it is not a balanced dataset"
    },
    {
      "metadata": {
        "_uuid": "9c8f794073d47dd5c4c13b00b84ec1024d309498"
      },
      "cell_type": "markdown",
      "source": "\nInitially examing the bivariate analysis and from that understanding which feature is significant among those multiple features then performing univariate anlysis on it"
    },
    {
      "metadata": {
        "_uuid": "fbcf2c8ac0fad833b8fd3be8ae2307bfe989ebb9"
      },
      "cell_type": "markdown",
      "source": "### Pair Plots\n\nTo analyze the plots and find out which features are best fit to consider for future predictions"
    },
    {
      "metadata": {
        "collapsed": true,
        "trusted": true,
        "_uuid": "6289b08b242c6b6e0f35c5aacf49c9051db85a70"
      },
      "cell_type": "code",
      "source": "\nsns.set_style(\"whitegrid\") #to display darkgrid as a background (can also be whitegrid , white , grid)",
      "execution_count": null,
      "outputs": []
    },
    {
      "metadata": {
        "_uuid": "63d0d4ab8c1d3219f9017b04aa5d29561842cd61"
      },
      "cell_type": "markdown",
      "source": "We will be getting the output of the pairplots including class label if we run below cell. To exclude the class label in pairplot it should be a string. So,changing the categorical data into strings with meaningful names"
    },
    {
      "metadata": {
        "collapsed": true,
        "trusted": true,
        "_uuid": "907e8464b80dc418b26d1ae9e6bfb1c7776d5bb3"
      },
      "cell_type": "code",
      "source": "#sns.pairplot(habermans_dataset,hue='survival_class',kind='scatter',size=3) ",
      "execution_count": null,
      "outputs": []
    },
    {
      "metadata": {
        "collapsed": true,
        "trusted": true,
        "_uuid": "cd45594ad1ff39fe1ae9f3887bb4c0f0b7cd22c6"
      },
      "cell_type": "code",
      "source": "habermans_dataset['survival_class'] = habermans_dataset['survival_class'].apply(lambda x: 'survived >= 5yrs' if x == 1 else 'survived < 5yrs')",
      "execution_count": null,
      "outputs": []
    },
    {
      "metadata": {
        "trusted": true,
        "_uuid": "95906eab013e838ca41a4fa2a8347f02c5785374"
      },
      "cell_type": "code",
      "source": "habermans_dataset['survival_class'].value_counts()",
      "execution_count": null,
      "outputs": []
    },
    {
      "metadata": {
        "trusted": true,
        "_uuid": "e8fbea6188b1618a3a0e9c42d125ec51bf8402a3"
      },
      "cell_type": "code",
      "source": "sns.pairplot(habermans_dataset,hue='survival_class',kind='scatter',size=3)",
      "execution_count": null,
      "outputs": []
    },
    {
      "metadata": {
        "_uuid": "be9b5ea2dfbcc8070181d0d9e1e30149ade8bfc5"
      },
      "cell_type": "markdown",
      "source": "#### Observation"
    },
    {
      "metadata": {
        "_uuid": "fbf07f84ce269a301f993c966ea3c798a73395f5"
      },
      "cell_type": "markdown",
      "source": "From the above scatter plots it is evident that \n\n--> We can't classify whether the given observation is of class-1 or class-2 based on any two features from the dataset\n\n   because in every scatter plot(out of three plots) the datapoints are not seperated in any manner. "
    },
    {
      "metadata": {
        "_uuid": "ea5bbb5ef3fe30caf71396838e7524cf28850267"
      },
      "cell_type": "markdown",
      "source": "-----------------------------------------------------------------------------------------------------------------------------"
    },
    {
      "metadata": {
        "_uuid": "ef196295c63dedc0e815a8c4ec202c93fd65f8e7"
      },
      "cell_type": "markdown",
      "source": "### Univariate Analysis \n                         \n Performing analysis on each individual feature to identiy which feature might the suitable for our objective\n\n\n"
    },
    {
      "metadata": {
        "collapsed": true,
        "trusted": true,
        "_uuid": "4c282c46d78ded4e27441ccce4aab1ff09567daa"
      },
      "cell_type": "code",
      "source": "#dividing the survival_class features into each individual dataframes to perform CDF,PDF",
      "execution_count": null,
      "outputs": []
    },
    {
      "metadata": {
        "collapsed": true,
        "trusted": true,
        "_uuid": "1f23289f74a2880ebabcba981c3c95753d14b06c"
      },
      "cell_type": "code",
      "source": "habermans_dataset_class_1 = habermans_dataset[habermans_dataset['survival_class'] == 'survived >= 5yrs']",
      "execution_count": null,
      "outputs": []
    },
    {
      "metadata": {
        "trusted": true,
        "_uuid": "58c3926095a33b39499d41dca5889d3b48dbe92f"
      },
      "cell_type": "code",
      "source": "habermans_dataset_class_1.head()",
      "execution_count": null,
      "outputs": []
    },
    {
      "metadata": {
        "collapsed": true,
        "trusted": true,
        "_uuid": "9630426ba35407898dee343370b0c09fe0705e2b"
      },
      "cell_type": "code",
      "source": "habermans_dataset_class_2 = habermans_dataset[habermans_dataset['survival_class'] == 'survived < 5yrs']",
      "execution_count": null,
      "outputs": []
    },
    {
      "metadata": {
        "trusted": true,
        "_uuid": "177e16257bfa62852afc39d15207878c8012d8f2"
      },
      "cell_type": "code",
      "source": "habermans_dataset_class_2.head()",
      "execution_count": null,
      "outputs": []
    },
    {
      "metadata": {
        "_uuid": "38b7217b77ec515bfde65b9f283808d64b0daae1"
      },
      "cell_type": "markdown",
      "source": "#### Plotting Histograms with PDF \nto know the data distribution\n"
    },
    {
      "metadata": {
        "_uuid": "d61dbcd416e063c5697a847652f0d5d52934f57c"
      },
      "cell_type": "markdown",
      "source": "We will plot all the features and thier Histograms and from the graphs we will select which feature can be useful among three and then perform analysis on it\n\n**Univariate Analysis using PDF (Probability Density Function)**"
    },
    {
      "metadata": {
        "trusted": true,
        "_uuid": "a59accffeb119b49728d537dbb70dbbdc8e2e9b7"
      },
      "cell_type": "code",
      "source": "#initially plotting the first feature (age)\n\nsns.FacetGrid(habermans_dataset,hue='survival_class',size=5).map(sns.distplot,'age').add_legend()\nplt.title(\"Histogram with PDF for 'age' feature\")",
      "execution_count": null,
      "outputs": []
    },
    {
      "metadata": {
        "trusted": true,
        "_uuid": "2aa3e6abd4f12f504c277e8b10fe094ab2660bcb"
      },
      "cell_type": "code",
      "source": "sns.FacetGrid(habermans_dataset,hue='survival_class',size=5).map(sns.distplot,'year_of_operation').add_legend()\nplt.title(\"Histogram with PDF for 'year_of_operation' feature \")",
      "execution_count": null,
      "outputs": []
    },
    {
      "metadata": {
        "trusted": true,
        "_uuid": "ec2588100609e6831813cb04450ffda808bda499"
      },
      "cell_type": "code",
      "source": "sns.FacetGrid(habermans_dataset,hue='survival_class',size=5).map(sns.distplot,'axillary_nodes').add_legend()\nplt.title(\"Histogram with PDF for 'axillary_nodes' feature\")",
      "execution_count": null,
      "outputs": []
    },
    {
      "metadata": {
        "collapsed": true,
        "_uuid": "8e1babeb24f71f5bb715535aa86bd2f896c389be"
      },
      "cell_type": "markdown",
      "source": "**Observation**:\n    \n1.In the histogram plots pf features 'year_of_operation' and 'age' , PDF of two plots show that , two classes ('survived>=5yrs' and 'survived<5yrs') overlapped (almost they are top on each other). So, we cannot consider both features as useful feature for our objective.\n\n\n2.Whereas in the histogram plot for feature 'axillary_nodes' . Even though there is an slight overlap between two PDF of classes (survived>=5yrs and survived<5yrs) but there is possibility of classifying results based on this feature when compared to other two features. \n\nFor indetailed analysis , we will plot CDF,boxplots and violin plots for feature 'axillary_nodes'"
    },
    {
      "metadata": {
        "_uuid": "d618f1c46b97d85c14a0ee7fd5a584f48ac7d3d2"
      },
      "cell_type": "markdown",
      "source": "### Univariate Analysis on 'axillary_nodes' feature"
    },
    {
      "metadata": {
        "_uuid": "d8b2ef9313f1c65f837b34e77fb2b98aea3e76e9"
      },
      "cell_type": "markdown",
      "source": "#### Plotting CDF(Cumulative Distribution Function) for this feature . \n\nIt is the cumsum of the PDFs'. It helps in determing the percentage of class is below or above at a given point.\n\n"
    },
    {
      "metadata": {
        "trusted": true,
        "_uuid": "29faea8a0d3a95b221dd8215084c74269f80152f"
      },
      "cell_type": "code",
      "source": "count,bin_edges = np.histogram(habermans_dataset_class_1['axillary_nodes'],density=True,bins=10)\nPDF = count/sum(count)\nprint(PDF)\nprint(bin_edges)",
      "execution_count": null,
      "outputs": []
    },
    {
      "metadata": {
        "trusted": true,
        "_uuid": "31e1e5638ada226a4ed12ce6a0ccc5b1ff7592d4"
      },
      "cell_type": "code",
      "source": "#plt.plot(bin_edges[1:],PDF)\n\n#computing CDF\nCDF = np.cumsum(PDF)\nprint(CDF)",
      "execution_count": null,
      "outputs": []
    },
    {
      "metadata": {
        "trusted": true,
        "_uuid": "9dfd278ec22a1a8c336b23174f0f8b4c9e53cdb1"
      },
      "cell_type": "code",
      "source": "plt.plot(bin_edges[1:],PDF,label = \"PDF\",)\nplt.plot(bin_edges[1:],CDF,label = \"CDF\")\nplt.legend()\nplt.xlabel(\"axillary_nodes\")\nplt.ylabel(\"probability\")\nplt.title(\"PDF and CDF of 'axillary_nodes' feature for survival_class = 'survived>=5yrs' \")",
      "execution_count": null,
      "outputs": []
    },
    {
      "metadata": {
        "_uuid": "6f7df6ad90882fd2bca97d58f844f3db8910fa47"
      },
      "cell_type": "markdown",
      "source": "**Observation:**\n    \n  1. This is the plot of class-1(survived>=5yrs)\n    \n  2. From the given data we know that among 306 people,225 people have 'survived>=5yrs'.\n    \n  3. From the CDF in the graph we can say that approximately \"90%\" of the people who \"survived greater than 5yrs\" has \"count of axillary nodes <=10\"  \n    \n    i.e., approximately 202 people who has survived>=5yrs have 'count of axillary nodes less than or equal to 10'.\n    \n"
    },
    {
      "metadata": {
        "trusted": true,
        "_uuid": "e2e5d3a613d40c8fbb12de3793b0259a9707b2a9"
      },
      "cell_type": "code",
      "source": "#### plot for two survival_classes\n\n#plot for 'survived>=5yrs'\ncount,bin_edges = np.histogram(habermans_dataset_class_1['axillary_nodes'],bins=20,density=True)\nPDF = count/sum(count)\n#calculating CDF\nCDF = np.cumsum(PDF)\nplt.plot(bin_edges[1:],PDF,label=\"PDF of survived>=5yrs\")\nplt.plot(bin_edges[1:],CDF,label=\"CDF of survived>=5yrs\")\n\n#plot for 'survived<5yrs'\ncount,bin_edges = np.histogram(habermans_dataset_class_2['axillary_nodes'],bins=20,density=True)\nPDF = count/sum(count)\n#calculating CDF\nCDF = np.cumsum(PDF)\nplt.plot(bin_edges[1:],PDF,label=\"PDF of survived<5yrs\")\nplt.plot(bin_edges[1:],CDF,label=\"CDF of survived<5yrs\")\nplt.legend()\nplt.xlabel(\"axillary_nodes\")\nplt.ylabel(\"probability\")\nplt.title(\"PDF and CDF of both survival_classes\")",
      "execution_count": null,
      "outputs": []
    },
    {
      "metadata": {
        "_uuid": "14d9bf5151dfad25dd8ad4368d672d1be5ffa288"
      },
      "cell_type": "markdown",
      "source": "**Observation:**\n    \n1.**Our observation in above case has been ruled out ** as the CDF of \"survived<5yrs\" class show 70% of it's observations are for the patients who has (count of axillary_nodes less than equal to 10) . As we have stated our observation only by depending upon one class (survived>=5yrs)among two classes in the above observation.\n    \n2.In this plot, we can observe that there is an overlap between two PDFs'. \n    \n3.Even though there is overlapping between both. when we fix our threshold value to '5'(count of no.of axillary nodes to 5), then if we need to classify the new patient according to this feature then we might predict him to class who can 'survive 5yrs or more than 5yrs' because from the CDF of 'survived<=5yrs' show that 80% of it's observation have 'count of axillary nodes' <= 5 whereas 'survived>5yrs' class has only 45% of observations at that value.\n\n"
    },
    {
      "metadata": {
        "_uuid": "66a5e556b72d77617898981d09a6dc5d08f09e5a"
      },
      "cell_type": "markdown",
      "source": "### Box Plot and Whiskers\nLet's analyze this feature by using box-plot"
    },
    {
      "metadata": {
        "trusted": true,
        "_uuid": "c4d29cad5504071670a24087c4668cd9bde498ed"
      },
      "cell_type": "code",
      "source": "sns.boxplot(data = habermans_dataset,x=\"survival_class\",y=\"axillary_nodes\")",
      "execution_count": null,
      "outputs": []
    },
    {
      "metadata": {
        "_uuid": "57c4e1125a7572cb21e2245f391e8ddc8bdf3b2c"
      },
      "cell_type": "markdown",
      "source": "**Observation:**\n   \n1.From this plot, it is evident that the class 'survived>=5yrs' has 75percentile of count of axillary nodes value less than 5. probably less than 4.\n\n2.The class 'survived<5yrs' has it's 50th percentile value more than the value of 75th percentile of 'survived>=5yrs' class.From the box plot of this class , it can be seen that most of it's values(count of axillary nodes) are '>6 and <12' (between 50th percentile and 75th percentile) of this class "
    },
    {
      "metadata": {
        "_uuid": "55fd954e5859151114cbd7e5e887c3823ec52323"
      },
      "cell_type": "markdown",
      "source": "### Violin Plot"
    },
    {
      "metadata": {
        "trusted": true,
        "_uuid": "13aa1621cefb5b546252f4c06f92f51f8052bb58"
      },
      "cell_type": "code",
      "source": "sns.violinplot(data = habermans_dataset,x='survival_class',y='axillary_nodes')",
      "execution_count": null,
      "outputs": []
    },
    {
      "metadata": {
        "_uuid": "0ef2171bed28efce6c9f57ae7100dfa424afa196"
      },
      "cell_type": "markdown",
      "source": "## Conclusion:\n"
    },
    {
      "metadata": {
        "_uuid": "0586b28a19022c067012044aa0c5c47d86fe04a6"
      },
      "cell_type": "markdown",
      "source": "1.Out of three features ('age','no.of.operations' and 'count of axillary_nodes') . 'axillary_nodes' is the best feature among three to classify the survival_class"
    },
    {
      "metadata": {
        "_uuid": "5f34ea32eafd71366109c41f2bcdb69579f5982a"
      },
      "cell_type": "markdown",
      "source": "----------------------------------------------------------------------------------------------------------------------------\nclass-1 : 'survived>=5yrs'\n\nclass-2 : 'survived<5yrs'\n\n---------------------------------------------------------------------------------------------------------------------------"
    },
    {
      "metadata": {
        "_uuid": "f7e1d85815e673d9f4e64a4259bc5d2c331fe02b"
      },
      "cell_type": "markdown",
      "source": "2.Even though 'axillary_nodes' feature has some overlappings among survival_class. but based on above observations we can classify that if the 'count of axillary nodes' is less than 5 , then it can be classified as 'survived>=5yrs' else it is more likely to fall under 'survived<5yrs' class."
    },
    {
      "metadata": {
        "collapsed": true,
        "trusted": false,
        "_uuid": "8aa8734ddeb2a02518c9108c24a61cc08c73c8dc"
      },
      "cell_type": "code",
      "source": "",
      "execution_count": null,
      "outputs": []
    }
  ],
  "metadata": {
    "kernelspec": {
      "display_name": "Python 3",
      "language": "python",
      "name": "python3"
    },
    "language_info": {
      "codemirror_mode": {
        "name": "ipython",
        "version": 3
      },
      "file_extension": ".py",
      "mimetype": "text/x-python",
      "name": "python",
      "nbconvert_exporter": "python",
      "pygments_lexer": "ipython3",
      "version": "3.6.1"
    }
  },
  "nbformat": 4,
  "nbformat_minor": 1
}